{
 "cells": [
  {
   "cell_type": "markdown",
   "metadata": {},
   "source": [
    "# Alex Joseph\n",
    "\n",
    "## Acute Inflammation Dataset\n",
    "\n",
    "### Features and Labels\n",
    "- temp => Temperature of the patient\n",
    "- nausea => If the patient is suffering from nausea or not\n",
    "- pain_lumbar => If there is pain in the lumbar region or not\n",
    "- urine_pushing => If there is a need to forcefully push urine or not\n",
    "- micturition_pain => If there is pain while urinatingor not\n",
    "- urethra burn => If there is a burning sensation in the urethral region while urinating or not\n",
    "- inflammation => If there is inflammation in the bladder (label)\n",
    "- nephritis => If the patient is suffering from nephritis or not (label)"
   ]
  },
  {
   "cell_type": "markdown",
   "metadata": {},
   "source": [
    "### Importing Essential Libraries and Readying the Dataset"
   ]
  },
  {
   "cell_type": "code",
   "execution_count": 1,
   "metadata": {},
   "outputs": [],
   "source": [
    "import numpy as np\n",
    "import pandas as pd\n",
    "import warnings\n",
    "warnings.filterwarnings('ignore')"
   ]
  },
  {
   "cell_type": "code",
   "execution_count": 2,
   "metadata": {},
   "outputs": [],
   "source": [
    "# Reading the data file\n",
    "\n",
    "with open(\"diagnosis.data\",'r', encoding='utf-16', errors='ignore') as diag:\n",
    "    diag_read = diag.read()    "
   ]
  },
  {
   "cell_type": "code",
   "execution_count": 3,
   "metadata": {},
   "outputs": [
    {
     "data": {
      "text/plain": [
       "'35,5\\tno\\tyes\\tno\\tno\\tno\\tno\\tno\\n35,9\\tno\\tno\\tyes\\tyes\\tyes\\tyes\\tno\\n35,9\\tno\\tyes\\tno\\tno\\tno\\tno\\tno\\n36,0\\tno\\tno\\tyes\\tyes\\tyes\\tyes\\tno\\n36,0\\tno\\tyes\\tno\\tno\\tno\\tno\\tno\\n36,0\\tno\\tyes\\tno\\tno\\tno\\tno\\tno\\n36,2\\tno\\tno\\tyes\\tyes\\tyes\\tyes\\tno\\n36,2\\tno\\tyes\\tno\\tno\\tno\\tno\\tno\\n36,3\\tno\\tno\\tyes\\tyes\\tyes\\tyes\\tno\\n36,6\\tno\\tno\\tyes\\tyes\\tyes\\tyes\\tno\\n36,6\\tno\\tno\\tyes\\tyes\\tyes\\tyes\\tno\\n36,6\\tno\\tyes\\tno\\tno\\tno\\tno\\tno\\n36,6\\tno\\tyes\\tno\\tno\\tno\\tno\\tno\\n36,7\\tno\\tno\\tyes\\tyes\\tyes\\tyes\\tno\\n36,7\\tno\\tyes\\tno\\tno\\tno\\tno\\tno\\n36,7\\tno\\tyes\\tno\\tno\\tno\\tno\\tno\\n36,8\\tno\\tno\\tyes\\tyes\\tyes\\tyes\\tno\\n36,8\\tno\\tno\\tyes\\tyes\\tyes\\tyes\\tno\\n36,9\\tno\\tno\\tyes\\tyes\\tyes\\tyes\\tno\\n36,9\\tno\\tyes\\tno\\tno\\tno\\tno\\tno\\n37,0\\tno\\tno\\tyes\\tyes\\tno\\tyes\\tno\\n37,0\\tno\\tno\\tyes\\tyes\\tno\\tyes\\tno\\n37,0\\tno\\tyes\\tno\\tno\\tno\\tno\\tno\\n37,0\\tno\\tno\\tyes\\tyes\\tyes\\tyes\\tno\\n37,0\\tno\\tno\\tyes\\tyes\\tyes\\tyes\\tno\\n37,0\\tno\\tno\\tyes\\tyes\\tyes\\tyes\\tno\\n37,0\\tno\\tno\\tyes\\tyes\\tyes\\tyes\\tno\\n37,0\\tno\\tno\\tyes\\tno\\tno\\tyes\\tno\\n37,1\\tno\\tyes\\tno\\tno\\tno\\tno\\tno\\n37,1\\tno\\tno\\tyes\\tyes\\tyes\\tyes\\tno\\n37,1\\tno\\tno\\tyes\\tno\\tno\\tyes\\tno\\n37,2\\tno\\tno\\tyes\\tyes\\tno\\tyes\\tno\\n37,2\\tno\\tyes\\tno\\tno\\tno\\tno\\tno\\n37,2\\tno\\tno\\tyes\\tno\\tno\\tyes\\tno\\n37,3\\tno\\tyes\\tno\\tno\\tno\\tno\\tno\\n37,3\\tno\\tno\\tyes\\tyes\\tyes\\tyes\\tno\\n37,3\\tno\\tno\\tyes\\tno\\tno\\tyes\\tno\\n37,4\\tno\\tyes\\tno\\tno\\tno\\tno\\tno\\n37,4\\tno\\tno\\tyes\\tno\\tno\\tyes\\tno\\n37,5\\tno\\tno\\tyes\\tyes\\tno\\tyes\\tno\\n37,5\\tno\\tyes\\tno\\tno\\tno\\tno\\tno\\n37,5\\tno\\tyes\\tno\\tno\\tno\\tno\\tno\\n37,5\\tno\\tno\\tyes\\tyes\\tyes\\tyes\\tno\\n37,5\\tno\\tno\\tyes\\tno\\tno\\tyes\\tno\\n37,5\\tno\\tno\\tyes\\tno\\tno\\tyes\\tno\\n37,6\\tno\\tno\\tyes\\tyes\\tno\\tyes\\tno\\n37,6\\tno\\tno\\tyes\\tyes\\tno\\tyes\\tno\\n37,6\\tno\\tno\\tyes\\tyes\\tyes\\tyes\\tno\\n37,7\\tno\\tno\\tyes\\tyes\\tno\\tyes\\tno\\n37,7\\tno\\tno\\tyes\\tyes\\tno\\tyes\\tno\\n37,7\\tno\\tyes\\tno\\tno\\tno\\tno\\tno\\n37,7\\tno\\tno\\tyes\\tno\\tno\\tyes\\tno\\n37,8\\tno\\tyes\\tno\\tno\\tno\\tno\\tno\\n37,8\\tno\\tno\\tyes\\tyes\\tyes\\tyes\\tno\\n37,8\\tno\\tno\\tyes\\tno\\tno\\tyes\\tno\\n37,9\\tno\\tno\\tyes\\tyes\\tno\\tyes\\tno\\n37,9\\tno\\tno\\tyes\\tyes\\tno\\tyes\\tno\\n37,9\\tno\\tyes\\tno\\tno\\tno\\tno\\tno\\n37,9\\tno\\tno\\tyes\\tyes\\tyes\\tyes\\tno\\n37,9\\tno\\tno\\tyes\\tno\\tno\\tyes\\tno\\n38,0\\tno\\tyes\\tyes\\tno\\tyes\\tno\\tyes\\n38,0\\tno\\tyes\\tyes\\tno\\tyes\\tno\\tyes\\n38,1\\tno\\tyes\\tyes\\tno\\tyes\\tno\\tyes\\n38,3\\tno\\tyes\\tyes\\tno\\tyes\\tno\\tyes\\n38,5\\tno\\tyes\\tyes\\tno\\tyes\\tno\\tyes\\n38,7\\tno\\tyes\\tyes\\tno\\tyes\\tno\\tyes\\n38,9\\tno\\tyes\\tyes\\tno\\tyes\\tno\\tyes\\n39,0\\tno\\tyes\\tyes\\tno\\tyes\\tno\\tyes\\n39,4\\tno\\tyes\\tyes\\tno\\tyes\\tno\\tyes\\n39,7\\tno\\tyes\\tyes\\tno\\tyes\\tno\\tyes\\n40,0\\tyes\\tyes\\tyes\\tyes\\tyes\\tyes\\tyes\\n40,0\\tyes\\tyes\\tyes\\tyes\\tyes\\tyes\\tyes\\n40,0\\tyes\\tyes\\tyes\\tyes\\tno\\tyes\\tyes\\n40,0\\tno\\tno\\tno\\tno\\tno\\tno\\tno\\n40,0\\tno\\tno\\tno\\tno\\tno\\tno\\tno\\n40,0\\tyes\\tyes\\tno\\tyes\\tno\\tno\\tyes\\n40,0\\tyes\\tyes\\tno\\tyes\\tno\\tno\\tyes\\n40,0\\tno\\tyes\\tyes\\tno\\tyes\\tno\\tyes\\n40,1\\tyes\\tyes\\tyes\\tyes\\tno\\tyes\\tyes\\n40,2\\tyes\\tyes\\tyes\\tyes\\tyes\\tyes\\tyes\\n40,2\\tno\\tno\\tno\\tno\\tno\\tno\\tno\\n40,2\\tyes\\tyes\\tno\\tyes\\tno\\tno\\tyes\\n40,3\\tno\\tyes\\tyes\\tno\\tyes\\tno\\tyes\\n40,4\\tyes\\tyes\\tyes\\tyes\\tyes\\tyes\\tyes\\n40,4\\tyes\\tyes\\tyes\\tyes\\tno\\tyes\\tyes\\n40,4\\tyes\\tyes\\tyes\\tyes\\tno\\tyes\\tyes\\n40,4\\tno\\tno\\tno\\tno\\tno\\tno\\tno\\n40,4\\tyes\\tyes\\tno\\tyes\\tno\\tno\\tyes\\n40,5\\tyes\\tyes\\tyes\\tyes\\tno\\tyes\\tyes\\n40,6\\tyes\\tyes\\tyes\\tyes\\tyes\\tyes\\tyes\\n40,6\\tno\\tno\\tno\\tno\\tno\\tno\\tno\\n40,6\\tyes\\tyes\\tno\\tyes\\tno\\tno\\tyes\\n40,7\\tyes\\tyes\\tyes\\tyes\\tyes\\tyes\\tyes\\n40,7\\tyes\\tyes\\tyes\\tyes\\tno\\tyes\\tyes\\n40,7\\tno\\tno\\tno\\tno\\tno\\tno\\tno\\n40,7\\tyes\\tyes\\tno\\tyes\\tno\\tno\\tyes\\n40,7\\tno\\tyes\\tyes\\tno\\tyes\\tno\\tyes\\n40,8\\tno\\tyes\\tyes\\tno\\tyes\\tno\\tyes\\n40,9\\tyes\\tyes\\tyes\\tyes\\tno\\tyes\\tyes\\n40,9\\tyes\\tyes\\tyes\\tyes\\tno\\tyes\\tyes\\n40,9\\tno\\tyes\\tyes\\tno\\tyes\\tno\\tyes\\n41,0\\tyes\\tyes\\tyes\\tyes\\tyes\\tyes\\tyes\\n41,0\\tno\\tno\\tno\\tno\\tno\\tno\\tno\\n41,0\\tyes\\tyes\\tno\\tyes\\tno\\tno\\tyes\\n41,0\\tno\\tyes\\tyes\\tno\\tyes\\tno\\tyes\\n41,1\\tyes\\tyes\\tyes\\tyes\\tyes\\tyes\\tyes\\n41,1\\tyes\\tyes\\tyes\\tyes\\tno\\tyes\\tyes\\n41,1\\tno\\tno\\tno\\tno\\tno\\tno\\tno\\n41,1\\tyes\\tyes\\tno\\tyes\\tno\\tno\\tyes\\n41,1\\tno\\tyes\\tyes\\tno\\tyes\\tno\\tyes\\n41,2\\tyes\\tyes\\tyes\\tyes\\tyes\\tyes\\tyes\\n41,2\\tno\\tno\\tno\\tno\\tno\\tno\\tno\\n41,2\\tyes\\tyes\\tno\\tyes\\tno\\tno\\tyes\\n41,2\\tno\\tyes\\tyes\\tno\\tyes\\tno\\tyes\\n41,3\\tyes\\tyes\\tyes\\tyes\\tno\\tyes\\tyes\\n41,4\\tno\\tyes\\tyes\\tno\\tyes\\tno\\tyes\\n41,5\\tno\\tno\\tno\\tno\\tno\\tno\\tno\\n41,5\\tyes\\tyes\\tno\\tyes\\tno\\tno\\tyes\\n41,5\\tno\\tyes\\tyes\\tno\\tyes\\tno\\tyes\\n41,5\\tno\\tyes\\tyes\\tno\\tyes\\tno\\tyes\\n'"
      ]
     },
     "execution_count": 3,
     "metadata": {},
     "output_type": "execute_result"
    }
   ],
   "source": [
    "diag_read"
   ]
  },
  {
   "cell_type": "code",
   "execution_count": 4,
   "metadata": {},
   "outputs": [],
   "source": [
    "# Formatting the data\n",
    "\n",
    "diag_lines = diag_read.split(\"\\n\")\n",
    "for i,lines in enumerate(diag_lines):\n",
    "    diag_lines[i] = lines.replace(\",\",\".\")"
   ]
  },
  {
   "cell_type": "code",
   "execution_count": 5,
   "metadata": {},
   "outputs": [],
   "source": [
    "data = []\n",
    "for lines in diag_lines:\n",
    "    data.append(lines.split(\"\\t\"))"
   ]
  },
  {
   "cell_type": "code",
   "execution_count": 6,
   "metadata": {},
   "outputs": [
    {
     "data": {
      "text/plain": [
       "[['35.5', 'no', 'yes', 'no', 'no', 'no', 'no', 'no'],\n",
       " ['35.9', 'no', 'no', 'yes', 'yes', 'yes', 'yes', 'no'],\n",
       " ['35.9', 'no', 'yes', 'no', 'no', 'no', 'no', 'no'],\n",
       " ['36.0', 'no', 'no', 'yes', 'yes', 'yes', 'yes', 'no'],\n",
       " ['36.0', 'no', 'yes', 'no', 'no', 'no', 'no', 'no'],\n",
       " ['36.0', 'no', 'yes', 'no', 'no', 'no', 'no', 'no'],\n",
       " ['36.2', 'no', 'no', 'yes', 'yes', 'yes', 'yes', 'no'],\n",
       " ['36.2', 'no', 'yes', 'no', 'no', 'no', 'no', 'no'],\n",
       " ['36.3', 'no', 'no', 'yes', 'yes', 'yes', 'yes', 'no'],\n",
       " ['36.6', 'no', 'no', 'yes', 'yes', 'yes', 'yes', 'no'],\n",
       " ['36.6', 'no', 'no', 'yes', 'yes', 'yes', 'yes', 'no'],\n",
       " ['36.6', 'no', 'yes', 'no', 'no', 'no', 'no', 'no'],\n",
       " ['36.6', 'no', 'yes', 'no', 'no', 'no', 'no', 'no'],\n",
       " ['36.7', 'no', 'no', 'yes', 'yes', 'yes', 'yes', 'no'],\n",
       " ['36.7', 'no', 'yes', 'no', 'no', 'no', 'no', 'no'],\n",
       " ['36.7', 'no', 'yes', 'no', 'no', 'no', 'no', 'no'],\n",
       " ['36.8', 'no', 'no', 'yes', 'yes', 'yes', 'yes', 'no'],\n",
       " ['36.8', 'no', 'no', 'yes', 'yes', 'yes', 'yes', 'no'],\n",
       " ['36.9', 'no', 'no', 'yes', 'yes', 'yes', 'yes', 'no'],\n",
       " ['36.9', 'no', 'yes', 'no', 'no', 'no', 'no', 'no'],\n",
       " ['37.0', 'no', 'no', 'yes', 'yes', 'no', 'yes', 'no'],\n",
       " ['37.0', 'no', 'no', 'yes', 'yes', 'no', 'yes', 'no'],\n",
       " ['37.0', 'no', 'yes', 'no', 'no', 'no', 'no', 'no'],\n",
       " ['37.0', 'no', 'no', 'yes', 'yes', 'yes', 'yes', 'no'],\n",
       " ['37.0', 'no', 'no', 'yes', 'yes', 'yes', 'yes', 'no'],\n",
       " ['37.0', 'no', 'no', 'yes', 'yes', 'yes', 'yes', 'no'],\n",
       " ['37.0', 'no', 'no', 'yes', 'yes', 'yes', 'yes', 'no'],\n",
       " ['37.0', 'no', 'no', 'yes', 'no', 'no', 'yes', 'no'],\n",
       " ['37.1', 'no', 'yes', 'no', 'no', 'no', 'no', 'no'],\n",
       " ['37.1', 'no', 'no', 'yes', 'yes', 'yes', 'yes', 'no'],\n",
       " ['37.1', 'no', 'no', 'yes', 'no', 'no', 'yes', 'no'],\n",
       " ['37.2', 'no', 'no', 'yes', 'yes', 'no', 'yes', 'no'],\n",
       " ['37.2', 'no', 'yes', 'no', 'no', 'no', 'no', 'no'],\n",
       " ['37.2', 'no', 'no', 'yes', 'no', 'no', 'yes', 'no'],\n",
       " ['37.3', 'no', 'yes', 'no', 'no', 'no', 'no', 'no'],\n",
       " ['37.3', 'no', 'no', 'yes', 'yes', 'yes', 'yes', 'no'],\n",
       " ['37.3', 'no', 'no', 'yes', 'no', 'no', 'yes', 'no'],\n",
       " ['37.4', 'no', 'yes', 'no', 'no', 'no', 'no', 'no'],\n",
       " ['37.4', 'no', 'no', 'yes', 'no', 'no', 'yes', 'no'],\n",
       " ['37.5', 'no', 'no', 'yes', 'yes', 'no', 'yes', 'no'],\n",
       " ['37.5', 'no', 'yes', 'no', 'no', 'no', 'no', 'no'],\n",
       " ['37.5', 'no', 'yes', 'no', 'no', 'no', 'no', 'no'],\n",
       " ['37.5', 'no', 'no', 'yes', 'yes', 'yes', 'yes', 'no'],\n",
       " ['37.5', 'no', 'no', 'yes', 'no', 'no', 'yes', 'no'],\n",
       " ['37.5', 'no', 'no', 'yes', 'no', 'no', 'yes', 'no'],\n",
       " ['37.6', 'no', 'no', 'yes', 'yes', 'no', 'yes', 'no'],\n",
       " ['37.6', 'no', 'no', 'yes', 'yes', 'no', 'yes', 'no'],\n",
       " ['37.6', 'no', 'no', 'yes', 'yes', 'yes', 'yes', 'no'],\n",
       " ['37.7', 'no', 'no', 'yes', 'yes', 'no', 'yes', 'no'],\n",
       " ['37.7', 'no', 'no', 'yes', 'yes', 'no', 'yes', 'no'],\n",
       " ['37.7', 'no', 'yes', 'no', 'no', 'no', 'no', 'no'],\n",
       " ['37.7', 'no', 'no', 'yes', 'no', 'no', 'yes', 'no'],\n",
       " ['37.8', 'no', 'yes', 'no', 'no', 'no', 'no', 'no'],\n",
       " ['37.8', 'no', 'no', 'yes', 'yes', 'yes', 'yes', 'no'],\n",
       " ['37.8', 'no', 'no', 'yes', 'no', 'no', 'yes', 'no'],\n",
       " ['37.9', 'no', 'no', 'yes', 'yes', 'no', 'yes', 'no'],\n",
       " ['37.9', 'no', 'no', 'yes', 'yes', 'no', 'yes', 'no'],\n",
       " ['37.9', 'no', 'yes', 'no', 'no', 'no', 'no', 'no'],\n",
       " ['37.9', 'no', 'no', 'yes', 'yes', 'yes', 'yes', 'no'],\n",
       " ['37.9', 'no', 'no', 'yes', 'no', 'no', 'yes', 'no'],\n",
       " ['38.0', 'no', 'yes', 'yes', 'no', 'yes', 'no', 'yes'],\n",
       " ['38.0', 'no', 'yes', 'yes', 'no', 'yes', 'no', 'yes'],\n",
       " ['38.1', 'no', 'yes', 'yes', 'no', 'yes', 'no', 'yes'],\n",
       " ['38.3', 'no', 'yes', 'yes', 'no', 'yes', 'no', 'yes'],\n",
       " ['38.5', 'no', 'yes', 'yes', 'no', 'yes', 'no', 'yes'],\n",
       " ['38.7', 'no', 'yes', 'yes', 'no', 'yes', 'no', 'yes'],\n",
       " ['38.9', 'no', 'yes', 'yes', 'no', 'yes', 'no', 'yes'],\n",
       " ['39.0', 'no', 'yes', 'yes', 'no', 'yes', 'no', 'yes'],\n",
       " ['39.4', 'no', 'yes', 'yes', 'no', 'yes', 'no', 'yes'],\n",
       " ['39.7', 'no', 'yes', 'yes', 'no', 'yes', 'no', 'yes'],\n",
       " ['40.0', 'yes', 'yes', 'yes', 'yes', 'yes', 'yes', 'yes'],\n",
       " ['40.0', 'yes', 'yes', 'yes', 'yes', 'yes', 'yes', 'yes'],\n",
       " ['40.0', 'yes', 'yes', 'yes', 'yes', 'no', 'yes', 'yes'],\n",
       " ['40.0', 'no', 'no', 'no', 'no', 'no', 'no', 'no'],\n",
       " ['40.0', 'no', 'no', 'no', 'no', 'no', 'no', 'no'],\n",
       " ['40.0', 'yes', 'yes', 'no', 'yes', 'no', 'no', 'yes'],\n",
       " ['40.0', 'yes', 'yes', 'no', 'yes', 'no', 'no', 'yes'],\n",
       " ['40.0', 'no', 'yes', 'yes', 'no', 'yes', 'no', 'yes'],\n",
       " ['40.1', 'yes', 'yes', 'yes', 'yes', 'no', 'yes', 'yes'],\n",
       " ['40.2', 'yes', 'yes', 'yes', 'yes', 'yes', 'yes', 'yes'],\n",
       " ['40.2', 'no', 'no', 'no', 'no', 'no', 'no', 'no'],\n",
       " ['40.2', 'yes', 'yes', 'no', 'yes', 'no', 'no', 'yes'],\n",
       " ['40.3', 'no', 'yes', 'yes', 'no', 'yes', 'no', 'yes'],\n",
       " ['40.4', 'yes', 'yes', 'yes', 'yes', 'yes', 'yes', 'yes'],\n",
       " ['40.4', 'yes', 'yes', 'yes', 'yes', 'no', 'yes', 'yes'],\n",
       " ['40.4', 'yes', 'yes', 'yes', 'yes', 'no', 'yes', 'yes'],\n",
       " ['40.4', 'no', 'no', 'no', 'no', 'no', 'no', 'no'],\n",
       " ['40.4', 'yes', 'yes', 'no', 'yes', 'no', 'no', 'yes'],\n",
       " ['40.5', 'yes', 'yes', 'yes', 'yes', 'no', 'yes', 'yes'],\n",
       " ['40.6', 'yes', 'yes', 'yes', 'yes', 'yes', 'yes', 'yes'],\n",
       " ['40.6', 'no', 'no', 'no', 'no', 'no', 'no', 'no'],\n",
       " ['40.6', 'yes', 'yes', 'no', 'yes', 'no', 'no', 'yes'],\n",
       " ['40.7', 'yes', 'yes', 'yes', 'yes', 'yes', 'yes', 'yes'],\n",
       " ['40.7', 'yes', 'yes', 'yes', 'yes', 'no', 'yes', 'yes'],\n",
       " ['40.7', 'no', 'no', 'no', 'no', 'no', 'no', 'no'],\n",
       " ['40.7', 'yes', 'yes', 'no', 'yes', 'no', 'no', 'yes'],\n",
       " ['40.7', 'no', 'yes', 'yes', 'no', 'yes', 'no', 'yes'],\n",
       " ['40.8', 'no', 'yes', 'yes', 'no', 'yes', 'no', 'yes'],\n",
       " ['40.9', 'yes', 'yes', 'yes', 'yes', 'no', 'yes', 'yes'],\n",
       " ['40.9', 'yes', 'yes', 'yes', 'yes', 'no', 'yes', 'yes'],\n",
       " ['40.9', 'no', 'yes', 'yes', 'no', 'yes', 'no', 'yes'],\n",
       " ['41.0', 'yes', 'yes', 'yes', 'yes', 'yes', 'yes', 'yes'],\n",
       " ['41.0', 'no', 'no', 'no', 'no', 'no', 'no', 'no'],\n",
       " ['41.0', 'yes', 'yes', 'no', 'yes', 'no', 'no', 'yes'],\n",
       " ['41.0', 'no', 'yes', 'yes', 'no', 'yes', 'no', 'yes'],\n",
       " ['41.1', 'yes', 'yes', 'yes', 'yes', 'yes', 'yes', 'yes'],\n",
       " ['41.1', 'yes', 'yes', 'yes', 'yes', 'no', 'yes', 'yes'],\n",
       " ['41.1', 'no', 'no', 'no', 'no', 'no', 'no', 'no'],\n",
       " ['41.1', 'yes', 'yes', 'no', 'yes', 'no', 'no', 'yes'],\n",
       " ['41.1', 'no', 'yes', 'yes', 'no', 'yes', 'no', 'yes'],\n",
       " ['41.2', 'yes', 'yes', 'yes', 'yes', 'yes', 'yes', 'yes'],\n",
       " ['41.2', 'no', 'no', 'no', 'no', 'no', 'no', 'no'],\n",
       " ['41.2', 'yes', 'yes', 'no', 'yes', 'no', 'no', 'yes'],\n",
       " ['41.2', 'no', 'yes', 'yes', 'no', 'yes', 'no', 'yes'],\n",
       " ['41.3', 'yes', 'yes', 'yes', 'yes', 'no', 'yes', 'yes'],\n",
       " ['41.4', 'no', 'yes', 'yes', 'no', 'yes', 'no', 'yes'],\n",
       " ['41.5', 'no', 'no', 'no', 'no', 'no', 'no', 'no'],\n",
       " ['41.5', 'yes', 'yes', 'no', 'yes', 'no', 'no', 'yes'],\n",
       " ['41.5', 'no', 'yes', 'yes', 'no', 'yes', 'no', 'yes'],\n",
       " ['41.5', 'no', 'yes', 'yes', 'no', 'yes', 'no', 'yes'],\n",
       " ['']]"
      ]
     },
     "execution_count": 6,
     "metadata": {},
     "output_type": "execute_result"
    }
   ],
   "source": [
    "data"
   ]
  },
  {
   "cell_type": "code",
   "execution_count": 7,
   "metadata": {},
   "outputs": [],
   "source": [
    "columns= ['temp', 'nausea', 'pain_lumbar', 'urine_pushing',\n",
    "          'micturition_pain', 'urethra_burn', 'inflammation', 'nephritis']"
   ]
  },
  {
   "cell_type": "code",
   "execution_count": 8,
   "metadata": {},
   "outputs": [
    {
     "name": "stdout",
     "output_type": "stream",
     "text": [
      "(121, 8)\n"
     ]
    },
    {
     "data": {
      "text/html": [
       "<div>\n",
       "<style scoped>\n",
       "    .dataframe tbody tr th:only-of-type {\n",
       "        vertical-align: middle;\n",
       "    }\n",
       "\n",
       "    .dataframe tbody tr th {\n",
       "        vertical-align: top;\n",
       "    }\n",
       "\n",
       "    .dataframe thead th {\n",
       "        text-align: right;\n",
       "    }\n",
       "</style>\n",
       "<table border=\"1\" class=\"dataframe\">\n",
       "  <thead>\n",
       "    <tr style=\"text-align: right;\">\n",
       "      <th></th>\n",
       "      <th>temp</th>\n",
       "      <th>nausea</th>\n",
       "      <th>pain_lumbar</th>\n",
       "      <th>urine_pushing</th>\n",
       "      <th>micturition_pain</th>\n",
       "      <th>urethra_burn</th>\n",
       "      <th>inflammation</th>\n",
       "      <th>nephritis</th>\n",
       "    </tr>\n",
       "  </thead>\n",
       "  <tbody>\n",
       "    <tr>\n",
       "      <th>0</th>\n",
       "      <td>35.5</td>\n",
       "      <td>no</td>\n",
       "      <td>yes</td>\n",
       "      <td>no</td>\n",
       "      <td>no</td>\n",
       "      <td>no</td>\n",
       "      <td>no</td>\n",
       "      <td>no</td>\n",
       "    </tr>\n",
       "    <tr>\n",
       "      <th>1</th>\n",
       "      <td>35.9</td>\n",
       "      <td>no</td>\n",
       "      <td>no</td>\n",
       "      <td>yes</td>\n",
       "      <td>yes</td>\n",
       "      <td>yes</td>\n",
       "      <td>yes</td>\n",
       "      <td>no</td>\n",
       "    </tr>\n",
       "    <tr>\n",
       "      <th>2</th>\n",
       "      <td>35.9</td>\n",
       "      <td>no</td>\n",
       "      <td>yes</td>\n",
       "      <td>no</td>\n",
       "      <td>no</td>\n",
       "      <td>no</td>\n",
       "      <td>no</td>\n",
       "      <td>no</td>\n",
       "    </tr>\n",
       "    <tr>\n",
       "      <th>3</th>\n",
       "      <td>36.0</td>\n",
       "      <td>no</td>\n",
       "      <td>no</td>\n",
       "      <td>yes</td>\n",
       "      <td>yes</td>\n",
       "      <td>yes</td>\n",
       "      <td>yes</td>\n",
       "      <td>no</td>\n",
       "    </tr>\n",
       "    <tr>\n",
       "      <th>4</th>\n",
       "      <td>36.0</td>\n",
       "      <td>no</td>\n",
       "      <td>yes</td>\n",
       "      <td>no</td>\n",
       "      <td>no</td>\n",
       "      <td>no</td>\n",
       "      <td>no</td>\n",
       "      <td>no</td>\n",
       "    </tr>\n",
       "  </tbody>\n",
       "</table>\n",
       "</div>"
      ],
      "text/plain": [
       "   temp nausea pain_lumbar urine_pushing micturition_pain urethra_burn  \\\n",
       "0  35.5     no         yes            no               no           no   \n",
       "1  35.9     no          no           yes              yes          yes   \n",
       "2  35.9     no         yes            no               no           no   \n",
       "3  36.0     no          no           yes              yes          yes   \n",
       "4  36.0     no         yes            no               no           no   \n",
       "\n",
       "  inflammation nephritis  \n",
       "0           no        no  \n",
       "1          yes        no  \n",
       "2           no        no  \n",
       "3          yes        no  \n",
       "4           no        no  "
      ]
     },
     "execution_count": 8,
     "metadata": {},
     "output_type": "execute_result"
    }
   ],
   "source": [
    "# Tabulating the data into a DataFrame\n",
    "\n",
    "data = pd.DataFrame(data, columns=columns)\n",
    "print(data.shape)\n",
    "data.head()"
   ]
  },
  {
   "cell_type": "code",
   "execution_count": 9,
   "metadata": {},
   "outputs": [
    {
     "data": {
      "text/plain": [
       "temp                0\n",
       "nausea              1\n",
       "pain_lumbar         1\n",
       "urine_pushing       1\n",
       "micturition_pain    1\n",
       "urethra_burn        1\n",
       "inflammation        1\n",
       "nephritis           1\n",
       "dtype: int64"
      ]
     },
     "execution_count": 9,
     "metadata": {},
     "output_type": "execute_result"
    }
   ],
   "source": [
    "# Checking for null values\n",
    "\n",
    "data.isnull().sum()"
   ]
  },
  {
   "cell_type": "code",
   "execution_count": 10,
   "metadata": {},
   "outputs": [
    {
     "data": {
      "text/plain": [
       "(120, 8)"
      ]
     },
     "execution_count": 10,
     "metadata": {},
     "output_type": "execute_result"
    }
   ],
   "source": [
    "# Dropping the null values\n",
    "\n",
    "data.dropna(inplace=True, axis=0)\n",
    "data.shape"
   ]
  },
  {
   "cell_type": "code",
   "execution_count": 11,
   "metadata": {},
   "outputs": [
    {
     "data": {
      "text/html": [
       "<div>\n",
       "<style scoped>\n",
       "    .dataframe tbody tr th:only-of-type {\n",
       "        vertical-align: middle;\n",
       "    }\n",
       "\n",
       "    .dataframe tbody tr th {\n",
       "        vertical-align: top;\n",
       "    }\n",
       "\n",
       "    .dataframe thead th {\n",
       "        text-align: right;\n",
       "    }\n",
       "</style>\n",
       "<table border=\"1\" class=\"dataframe\">\n",
       "  <thead>\n",
       "    <tr style=\"text-align: right;\">\n",
       "      <th></th>\n",
       "      <th>temp</th>\n",
       "      <th>nausea</th>\n",
       "      <th>pain_lumbar</th>\n",
       "      <th>urine_pushing</th>\n",
       "      <th>micturition_pain</th>\n",
       "      <th>urethra_burn</th>\n",
       "      <th>inflammation</th>\n",
       "      <th>nephritis</th>\n",
       "    </tr>\n",
       "  </thead>\n",
       "  <tbody>\n",
       "    <tr>\n",
       "      <th>0</th>\n",
       "      <td>35.5</td>\n",
       "      <td>0</td>\n",
       "      <td>1</td>\n",
       "      <td>0</td>\n",
       "      <td>0</td>\n",
       "      <td>0</td>\n",
       "      <td>0</td>\n",
       "      <td>0</td>\n",
       "    </tr>\n",
       "    <tr>\n",
       "      <th>1</th>\n",
       "      <td>35.9</td>\n",
       "      <td>0</td>\n",
       "      <td>0</td>\n",
       "      <td>1</td>\n",
       "      <td>1</td>\n",
       "      <td>1</td>\n",
       "      <td>1</td>\n",
       "      <td>0</td>\n",
       "    </tr>\n",
       "    <tr>\n",
       "      <th>2</th>\n",
       "      <td>35.9</td>\n",
       "      <td>0</td>\n",
       "      <td>1</td>\n",
       "      <td>0</td>\n",
       "      <td>0</td>\n",
       "      <td>0</td>\n",
       "      <td>0</td>\n",
       "      <td>0</td>\n",
       "    </tr>\n",
       "    <tr>\n",
       "      <th>3</th>\n",
       "      <td>36.0</td>\n",
       "      <td>0</td>\n",
       "      <td>0</td>\n",
       "      <td>1</td>\n",
       "      <td>1</td>\n",
       "      <td>1</td>\n",
       "      <td>1</td>\n",
       "      <td>0</td>\n",
       "    </tr>\n",
       "    <tr>\n",
       "      <th>4</th>\n",
       "      <td>36.0</td>\n",
       "      <td>0</td>\n",
       "      <td>1</td>\n",
       "      <td>0</td>\n",
       "      <td>0</td>\n",
       "      <td>0</td>\n",
       "      <td>0</td>\n",
       "      <td>0</td>\n",
       "    </tr>\n",
       "  </tbody>\n",
       "</table>\n",
       "</div>"
      ],
      "text/plain": [
       "   temp  nausea  pain_lumbar  urine_pushing  micturition_pain  urethra_burn  \\\n",
       "0  35.5       0            1              0                 0             0   \n",
       "1  35.9       0            0              1                 1             1   \n",
       "2  35.9       0            1              0                 0             0   \n",
       "3  36.0       0            0              1                 1             1   \n",
       "4  36.0       0            1              0                 0             0   \n",
       "\n",
       "   inflammation  nephritis  \n",
       "0             0          0  \n",
       "1             1          0  \n",
       "2             0          0  \n",
       "3             1          0  \n",
       "4             0          0  "
      ]
     },
     "execution_count": 11,
     "metadata": {},
     "output_type": "execute_result"
    }
   ],
   "source": [
    "# Changing the 'yes' and 'no' to 1 and 0 respectively\n",
    "\n",
    "data.replace(['no','yes'], [0,1], inplace=True)\n",
    "data.head()"
   ]
  },
  {
   "cell_type": "code",
   "execution_count": 12,
   "metadata": {},
   "outputs": [
    {
     "name": "stdout",
     "output_type": "stream",
     "text": [
      "<class 'pandas.core.frame.DataFrame'>\n",
      "Int64Index: 120 entries, 0 to 119\n",
      "Data columns (total 8 columns):\n",
      " #   Column            Non-Null Count  Dtype \n",
      "---  ------            --------------  ----- \n",
      " 0   temp              120 non-null    object\n",
      " 1   nausea            120 non-null    int64 \n",
      " 2   pain_lumbar       120 non-null    int64 \n",
      " 3   urine_pushing     120 non-null    int64 \n",
      " 4   micturition_pain  120 non-null    int64 \n",
      " 5   urethra_burn      120 non-null    int64 \n",
      " 6   inflammation      120 non-null    int64 \n",
      " 7   nephritis         120 non-null    int64 \n",
      "dtypes: int64(7), object(1)\n",
      "memory usage: 8.4+ KB\n"
     ]
    }
   ],
   "source": [
    "data.info()"
   ]
  },
  {
   "cell_type": "code",
   "execution_count": 14,
   "metadata": {},
   "outputs": [],
   "source": [
    "# Importing Visualization Libraries\n",
    "\n",
    "import matplotlib.pyplot as plt\n",
    "import seaborn as sns; sns.set()"
   ]
  },
  {
   "cell_type": "code",
   "execution_count": 13,
   "metadata": {},
   "outputs": [],
   "source": [
    "# Converting the 'temp' column to float for visualization and for categorization\n",
    "\n",
    "data['temp'] = data['temp'].astype(float)"
   ]
  },
  {
   "cell_type": "code",
   "execution_count": 15,
   "metadata": {
    "scrolled": false
   },
   "outputs": [
    {
     "data": {
      "image/png": "[encoded data removed]",
      "text/plain": [
       "<Figure size 432x288 with 1 Axes>"
      ]
     },
     "metadata": {},
     "output_type": "display_data"
    }
   ],
   "source": [
    "sns.distplot(data.temp, bins=10);"
   ]
  },
  {
   "cell_type": "markdown",
   "metadata": {},
   "source": [
    "## Feature Analysis and Engineering"
   ]
  },
  {
   "cell_type": "code",
   "execution_count": 16,
   "metadata": {},
   "outputs": [],
   "source": [
    "# Categorizing the temperature as 'high temperature' and 'normal-temperature' as 1 and  0 respectively\n",
    "\n",
    "data.temp = data.temp.apply(lambda x: 0 if x < 38 else 1)"
   ]
  },
  {
   "cell_type": "code",
   "execution_count": 17,
   "metadata": {
    "scrolled": true
   },
   "outputs": [
    {
     "data": {
      "text/html": [
       "<div>\n",
       "<style scoped>\n",
       "    .dataframe tbody tr th:only-of-type {\n",
       "        vertical-align: middle;\n",
       "    }\n",
       "\n",
       "    .dataframe tbody tr th {\n",
       "        vertical-align: top;\n",
       "    }\n",
       "\n",
       "    .dataframe thead th {\n",
       "        text-align: right;\n",
       "    }\n",
       "</style>\n",
       "<table border=\"1\" class=\"dataframe\">\n",
       "  <thead>\n",
       "    <tr style=\"text-align: right;\">\n",
       "      <th></th>\n",
       "      <th>temp</th>\n",
       "      <th>nausea</th>\n",
       "      <th>pain_lumbar</th>\n",
       "      <th>urine_pushing</th>\n",
       "      <th>micturition_pain</th>\n",
       "      <th>urethra_burn</th>\n",
       "      <th>inflammation</th>\n",
       "      <th>nephritis</th>\n",
       "    </tr>\n",
       "  </thead>\n",
       "  <tbody>\n",
       "    <tr>\n",
       "      <th>0</th>\n",
       "      <td>0</td>\n",
       "      <td>0</td>\n",
       "      <td>1</td>\n",
       "      <td>0</td>\n",
       "      <td>0</td>\n",
       "      <td>0</td>\n",
       "      <td>0</td>\n",
       "      <td>0</td>\n",
       "    </tr>\n",
       "    <tr>\n",
       "      <th>1</th>\n",
       "      <td>0</td>\n",
       "      <td>0</td>\n",
       "      <td>0</td>\n",
       "      <td>1</td>\n",
       "      <td>1</td>\n",
       "      <td>1</td>\n",
       "      <td>1</td>\n",
       "      <td>0</td>\n",
       "    </tr>\n",
       "    <tr>\n",
       "      <th>2</th>\n",
       "      <td>0</td>\n",
       "      <td>0</td>\n",
       "      <td>1</td>\n",
       "      <td>0</td>\n",
       "      <td>0</td>\n",
       "      <td>0</td>\n",
       "      <td>0</td>\n",
       "      <td>0</td>\n",
       "    </tr>\n",
       "    <tr>\n",
       "      <th>3</th>\n",
       "      <td>0</td>\n",
       "      <td>0</td>\n",
       "      <td>0</td>\n",
       "      <td>1</td>\n",
       "      <td>1</td>\n",
       "      <td>1</td>\n",
       "      <td>1</td>\n",
       "      <td>0</td>\n",
       "    </tr>\n",
       "    <tr>\n",
       "      <th>4</th>\n",
       "      <td>0</td>\n",
       "      <td>0</td>\n",
       "      <td>1</td>\n",
       "      <td>0</td>\n",
       "      <td>0</td>\n",
       "      <td>0</td>\n",
       "      <td>0</td>\n",
       "      <td>0</td>\n",
       "    </tr>\n",
       "  </tbody>\n",
       "</table>\n",
       "</div>"
      ],
      "text/plain": [
       "   temp  nausea  pain_lumbar  urine_pushing  micturition_pain  urethra_burn  \\\n",
       "0     0       0            1              0                 0             0   \n",
       "1     0       0            0              1                 1             1   \n",
       "2     0       0            1              0                 0             0   \n",
       "3     0       0            0              1                 1             1   \n",
       "4     0       0            1              0                 0             0   \n",
       "\n",
       "   inflammation  nephritis  \n",
       "0             0          0  \n",
       "1             1          0  \n",
       "2             0          0  \n",
       "3             1          0  \n",
       "4             0          0  "
      ]
     },
     "execution_count": 17,
     "metadata": {},
     "output_type": "execute_result"
    }
   ],
   "source": [
    "data.head()"
   ]
  },
  {
   "cell_type": "markdown",
   "metadata": {},
   "source": [
    "#### Splitting the dataset into two so that we can model the two diseases separately"
   ]
  },
  {
   "cell_type": "code",
   "execution_count": 18,
   "metadata": {},
   "outputs": [],
   "source": [
    "inflam = data.drop('nephritis', axis=1)\n",
    "nephritis = data.drop('inflammation', axis=1)"
   ]
  },
  {
   "cell_type": "code",
   "execution_count": 19,
   "metadata": {},
   "outputs": [
    {
     "data": {
      "image/png": "[encoded data removed]",
      "text/plain": [
       "<Figure size 432x288 with 1 Axes>"
      ]
     },
     "metadata": {},
     "output_type": "display_data"
    }
   ],
   "source": [
    "sns.countplot(data['temp']);"
   ]
  },
  {
   "cell_type": "code",
   "execution_count": 20,
   "metadata": {},
   "outputs": [
    {
     "data": {
      "image/png": "[encoded data removed]",
      "text/plain": [
       "<Figure size 720x576 with 2 Axes>"
      ]
     },
     "metadata": {},
     "output_type": "display_data"
    }
   ],
   "source": [
    "plt.figure(figsize=(10,8))\n",
    "sns.heatmap(inflam.corr(), annot=True);"
   ]
  },
  {
   "cell_type": "markdown",
   "metadata": {},
   "source": [
    "### temp"
   ]
  },
  {
   "cell_type": "code",
   "execution_count": 21,
   "metadata": {},
   "outputs": [
    {
     "data": {
      "image/png": "[encoded data removed]",
      "text/plain": [
       "<Figure size 360x360 with 1 Axes>"
      ]
     },
     "metadata": {},
     "output_type": "display_data"
    },
    {
     "data": {
      "image/png": "[encoded data removed]",
      "text/plain": [
       "<Figure size 360x360 with 1 Axes>"
      ]
     },
     "metadata": {},
     "output_type": "display_data"
    }
   ],
   "source": [
    "sns.factorplot('temp', 'inflammation', data=inflam, kind='bar');\n",
    "sns.factorplot('temp', 'nephritis', data=nephritis, kind='bar');"
   ]
  },
  {
   "cell_type": "markdown",
   "metadata": {},
   "source": [
    "In the case of bladder inflammation, one might run a fever but chances are somewhere between 20% and 40%. But in the case of nephritis, the chances of vey high fever is 70% to 90%"
   ]
  },
  {
   "cell_type": "markdown",
   "metadata": {},
   "source": [
    "### nausea"
   ]
  },
  {
   "cell_type": "code",
   "execution_count": 22,
   "metadata": {},
   "outputs": [
    {
     "data": {
      "image/png": "[encoded data removed]",
      "text/plain": [
       "<Figure size 360x360 with 1 Axes>"
      ]
     },
     "metadata": {},
     "output_type": "display_data"
    },
    {
     "data": {
      "image/png": "[encoded data removed]",
      "text/plain": [
       "<Figure size 360x360 with 1 Axes>"
      ]
     },
     "metadata": {},
     "output_type": "display_data"
    }
   ],
   "source": [
    "sns.factorplot('nausea', 'inflammation', data=inflam, kind='bar');\n",
    "sns.factorplot('nausea', 'nephritis', data=nephritis, kind='bar');"
   ]
  },
  {
   "cell_type": "markdown",
   "metadata": {},
   "source": [
    "#### Note: It can be seen that if one is suffering from nephritis, they are sure to be feeling nauseated"
   ]
  },
  {
   "cell_type": "markdown",
   "metadata": {},
   "source": [
    "### pain_lumbar"
   ]
  },
  {
   "cell_type": "code",
   "execution_count": 23,
   "metadata": {},
   "outputs": [
    {
     "data": {
      "image/png": "[encoded data removed]",
      "text/plain": [
       "<Figure size 360x360 with 1 Axes>"
      ]
     },
     "metadata": {},
     "output_type": "display_data"
    },
    {
     "data": {
      "image/png": "[encoded data removed]",
      "text/plain": [
       "<Figure size 360x360 with 1 Axes>"
      ]
     },
     "metadata": {},
     "output_type": "display_data"
    }
   ],
   "source": [
    "sns.factorplot('pain_lumbar', 'inflammation', data=inflam, kind='bar');\n",
    "sns.factorplot('pain_lumbar', 'nephritis', data=nephritis, kind='bar');"
   ]
  },
  {
   "cell_type": "markdown",
   "metadata": {},
   "source": [
    "It seems that the lumbar pain is an indicator that it is not inflammation.\n",
    "In the case of nephritis, we can be upto 80% certain that there will be lumbar pain"
   ]
  },
  {
   "cell_type": "markdown",
   "metadata": {},
   "source": [
    "### urine_pushing"
   ]
  },
  {
   "cell_type": "code",
   "execution_count": 24,
   "metadata": {},
   "outputs": [
    {
     "data": {
      "image/png": "[encoded data removed]",
      "text/plain": [
       "<Figure size 360x360 with 1 Axes>"
      ]
     },
     "metadata": {},
     "output_type": "display_data"
    },
    {
     "data": {
      "image/png": "[encoded data removed]",
      "text/plain": [
       "<Figure size 360x360 with 1 Axes>"
      ]
     },
     "metadata": {},
     "output_type": "display_data"
    }
   ],
   "source": [
    "sns.factorplot('urine_pushing', 'inflammation', data=inflam, kind='bar');\n",
    "sns.factorplot('urine_pushing', 'nephritis', data=nephritis, kind='bar');"
   ]
  },
  {
   "cell_type": "markdown",
   "metadata": {},
   "source": [
    "In the case of inflammation in the bladder, we are nearly certain that there will be urine pushing\n",
    "\n",
    "But in the case of nephritis, urine pushing may or may not happen"
   ]
  },
  {
   "cell_type": "markdown",
   "metadata": {},
   "source": [
    "### micturition_pain"
   ]
  },
  {
   "cell_type": "code",
   "execution_count": 25,
   "metadata": {},
   "outputs": [
    {
     "data": {
      "image/png": "[encoded data removed]",
      "text/plain": [
       "<Figure size 360x360 with 1 Axes>"
      ]
     },
     "metadata": {},
     "output_type": "display_data"
    },
    {
     "data": {
      "image/png": "[encoded data removed]",
      "text/plain": [
       "<Figure size 360x360 with 1 Axes>"
      ]
     },
     "metadata": {},
     "output_type": "display_data"
    }
   ],
   "source": [
    "sns.factorplot('micturition_pain', 'inflammation', data=inflam, kind='bar');\n",
    "sns.factorplot('micturition_pain', 'nephritis', data=nephritis, kind='bar');"
   ]
  },
  {
   "cell_type": "markdown",
   "metadata": {},
   "source": [
    "In the case of pain during urination, it is more common in bladder inflammation than in nephritis"
   ]
  },
  {
   "cell_type": "markdown",
   "metadata": {},
   "source": [
    "### urethra_burn"
   ]
  },
  {
   "cell_type": "code",
   "execution_count": 26,
   "metadata": {},
   "outputs": [
    {
     "data": {
      "image/png": "[encoded data removed]",
      "text/plain": [
       "<Figure size 360x360 with 1 Axes>"
      ]
     },
     "metadata": {},
     "output_type": "display_data"
    },
    {
     "data": {
      "image/png": "[encoded data removed]",
      "text/plain": [
       "<Figure size 360x360 with 1 Axes>"
      ]
     },
     "metadata": {},
     "output_type": "display_data"
    }
   ],
   "source": [
    "sns.factorplot('urethra_burn', 'inflammation', data=inflam, kind='bar');\n",
    "sns.factorplot('urethra_burn', 'nephritis', data=nephritis, kind='bar');"
   ]
  },
  {
   "cell_type": "markdown",
   "metadata": {},
   "source": [
    "It appears that the burning sensation in the urethra happens in both nephritis and bladder inflammations and it can be seen that the chances of it being seen is more in nephritis"
   ]
  },
  {
   "cell_type": "markdown",
   "metadata": {},
   "source": [
    "## Modelling"
   ]
  },
  {
   "cell_type": "code",
   "execution_count": 27,
   "metadata": {},
   "outputs": [],
   "source": [
    "from sklearn.ensemble import RandomForestClassifier\n",
    "from sklearn.model_selection import StratifiedKFold, cross_val_score, train_test_split"
   ]
  },
  {
   "cell_type": "markdown",
   "metadata": {},
   "source": [
    "### Inflammation"
   ]
  },
  {
   "cell_type": "code",
   "execution_count": 28,
   "metadata": {},
   "outputs": [],
   "source": [
    "# Setting as feature and label dataframes\n",
    "\n",
    "X_inf = inflam.drop('inflammation', axis=1)\n",
    "y_inf = inflam['inflammation']"
   ]
  },
  {
   "cell_type": "code",
   "execution_count": 29,
   "metadata": {},
   "outputs": [],
   "source": [
    "# Setting the parameters for shuffling the dataset and making it into 10 sets of equal size for cross validation\n",
    "\n",
    "kfold = StratifiedKFold(10, shuffle=True)"
   ]
  },
  {
   "cell_type": "code",
   "execution_count": 30,
   "metadata": {},
   "outputs": [],
   "source": [
    "# Initializing the RandomForest Classifier\n",
    "\n",
    "rfc_inflam = RandomForestClassifier()"
   ]
  },
  {
   "cell_type": "code",
   "execution_count": 31,
   "metadata": {},
   "outputs": [
    {
     "data": {
      "text/plain": [
       "array([1., 1., 1., 1., 1., 1., 1., 1., 1., 1.])"
      ]
     },
     "execution_count": 31,
     "metadata": {},
     "output_type": "execute_result"
    }
   ],
   "source": [
    "# Calculating the cross validation score\n",
    "\n",
    "score = cross_val_score(rfc_inflam, X_inf, y_inf, scoring='recall', cv=kfold)\n",
    "score"
   ]
  },
  {
   "cell_type": "markdown",
   "metadata": {},
   "source": [
    "#### GridSearch"
   ]
  },
  {
   "cell_type": "code",
   "execution_count": 32,
   "metadata": {
    "scrolled": false
   },
   "outputs": [],
   "source": [
    "from sklearn.model_selection import GridSearchCV\n",
    "\n",
    "inflam_param = {'n_estimators':[100,200],\n",
    "                'max_depth':[10,20],\n",
    "                'min_samples_split':[2,3,5]}\n",
    "\n",
    "grid_inflam = GridSearchCV(rfc_inflam, param_grid=inflam_param, scoring='accuracy', cv=kfold, verbose=0)\n",
    "\n",
    "grid_inflam.fit(X_inf, y_inf)\n",
    "\n",
    "grid_inflam_est = grid_inflam.best_estimator_\n",
    "\n",
    "grid_inflam_score = grid_inflam.best_score_"
   ]
  },
  {
   "cell_type": "code",
   "execution_count": 33,
   "metadata": {},
   "outputs": [
    {
     "data": {
      "text/plain": [
       "1.0"
      ]
     },
     "execution_count": 33,
     "metadata": {},
     "output_type": "execute_result"
    }
   ],
   "source": [
    "grid_inflam_score"
   ]
  },
  {
   "cell_type": "code",
   "execution_count": 34,
   "metadata": {},
   "outputs": [
    {
     "data": {
      "text/plain": [
       "{'max_depth': 10, 'min_samples_split': 2, 'n_estimators': 100}"
      ]
     },
     "execution_count": 34,
     "metadata": {},
     "output_type": "execute_result"
    }
   ],
   "source": [
    "grid_inflam.best_params_"
   ]
  },
  {
   "cell_type": "code",
   "execution_count": 35,
   "metadata": {},
   "outputs": [
    {
     "data": {
      "text/plain": [
       "RandomForestClassifier(max_depth=10)"
      ]
     },
     "execution_count": 35,
     "metadata": {},
     "output_type": "execute_result"
    }
   ],
   "source": [
    "inf_rfc = RandomForestClassifier(n_estimators=100,\n",
    "                                 min_samples_split=2, \n",
    "                                 max_depth=10)\n",
    "\n",
    "inf_rfc.fit(X_inf, y_inf)"
   ]
  },
  {
   "cell_type": "markdown",
   "metadata": {},
   "source": [
    "### Nephritis"
   ]
  },
  {
   "cell_type": "code",
   "execution_count": 36,
   "metadata": {},
   "outputs": [],
   "source": [
    "# Setting as feature and label dataframes\n",
    "\n",
    "X_neph = nephritis.drop('nephritis', axis=1)\n",
    "y_neph = nephritis['nephritis']\n",
    "\n",
    "rfc_neph = RandomForestClassifier()"
   ]
  },
  {
   "cell_type": "code",
   "execution_count": 37,
   "metadata": {},
   "outputs": [
    {
     "data": {
      "text/plain": [
       "array([1., 1., 1., 1., 1., 1., 1., 1., 1., 1.])"
      ]
     },
     "execution_count": 37,
     "metadata": {},
     "output_type": "execute_result"
    }
   ],
   "source": [
    "# Calculating the cross validation score\n",
    "\n",
    "score = cross_val_score(rfc_neph, X_neph, y_neph, scoring='recall', cv=kfold)\n",
    "score"
   ]
  },
  {
   "cell_type": "markdown",
   "metadata": {},
   "source": [
    "#### GridSearch"
   ]
  },
  {
   "cell_type": "code",
   "execution_count": 38,
   "metadata": {},
   "outputs": [],
   "source": [
    "from sklearn.model_selection import GridSearchCV\n",
    "\n",
    "neph_param = {'n_estimators':[100,200],\n",
    "                'max_depth':[10,20],\n",
    "                'min_samples_split':[2,3,5]}\n",
    "\n",
    "grid_neph = GridSearchCV(rfc_neph, param_grid=neph_param, scoring='accuracy', cv=kfold, verbose=0)\n",
    "\n",
    "grid_neph.fit(X_neph, y_neph)\n",
    "\n",
    "grid_neph_est = grid_neph.best_estimator_\n",
    "\n",
    "grid_neph_score = grid_neph.best_score_"
   ]
  },
  {
   "cell_type": "code",
   "execution_count": 39,
   "metadata": {},
   "outputs": [
    {
     "data": {
      "text/plain": [
       "1.0"
      ]
     },
     "execution_count": 39,
     "metadata": {},
     "output_type": "execute_result"
    }
   ],
   "source": [
    "grid_neph_score"
   ]
  },
  {
   "cell_type": "code",
   "execution_count": 40,
   "metadata": {},
   "outputs": [
    {
     "data": {
      "text/plain": [
       "{'max_depth': 10, 'min_samples_split': 2, 'n_estimators': 100}"
      ]
     },
     "execution_count": 40,
     "metadata": {},
     "output_type": "execute_result"
    }
   ],
   "source": [
    "grid_neph.best_params_"
   ]
  },
  {
   "cell_type": "code",
   "execution_count": 41,
   "metadata": {},
   "outputs": [
    {
     "data": {
      "text/plain": [
       "RandomForestClassifier(max_depth=10)"
      ]
     },
     "execution_count": 41,
     "metadata": {},
     "output_type": "execute_result"
    }
   ],
   "source": [
    "neph_rfc = RandomForestClassifier(n_estimators=100, \n",
    "                                  min_samples_split=2, \n",
    "                                  max_depth=10)\n",
    "\n",
    "neph_rfc.fit(X_neph, y_neph)"
   ]
  },
  {
   "cell_type": "markdown",
   "metadata": {},
   "source": [
    "## Saving the Model"
   ]
  },
  {
   "cell_type": "code",
   "execution_count": 42,
   "metadata": {},
   "outputs": [
    {
     "data": {
      "text/plain": [
       "['model_neph.pkl']"
      ]
     },
     "execution_count": 42,
     "metadata": {},
     "output_type": "execute_result"
    }
   ],
   "source": [
    "import joblib\n",
    "\n",
    "joblib.dump(inf_rfc, \"model_inflam.pkl\")\n",
    "joblib.dump(neph_rfc, \"model_neph.pkl\")"
   ]
  },
  {
   "cell_type": "raw",
   "metadata": {},
   "source": [
    "http://127.0.0.1:5000/predict?temp=1&nausea=1&lumbar=1&urinepush=1&micturition=1&urethraburn=1"
   ]
  },
  {
   "cell_type": "markdown",
   "metadata": {},
   "source": [
    "Use the link above after opening the flask API for ease of trying various outcomes or find the web page for a better experience."
   ]
  },
  {
   "cell_type": "code",
   "execution_count": 1,
   "metadata": {},
   "outputs": [],
   "source": [
    "                           #### END OF PROJECT ####"
   ]
  }
 ],
 "metadata": {
  "kernelspec": {
   "display_name": "Python 3",
   "language": "python",
   "name": "python3"
  },
  "language_info": {
   "codemirror_mode": {
    "name": "ipython",
    "version": 3
   },
   "file_extension": ".py",
   "mimetype": "text/x-python",
   "name": "python",
   "nbconvert_exporter": "python",
   "pygments_lexer": "ipython3",
   "version": "3.7.6"
  }
 },
 "nbformat": 4,
 "nbformat_minor": 4
}
